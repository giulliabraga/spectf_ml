{
 "cells": [
  {
   "cell_type": "markdown",
   "metadata": {},
   "source": [
    "# imports"
   ]
  },
  {
   "cell_type": "code",
   "execution_count": 1,
   "metadata": {},
   "outputs": [],
   "source": [
    "# importsimport numpy as np\n",
    "import numpy as np\n",
    "from sklearn.neighbors import KernelDensity"
   ]
  },
  {
   "cell_type": "markdown",
   "metadata": {},
   "source": [
    "# Methods"
   ]
  },
  {
   "cell_type": "code",
   "execution_count": 4,
   "metadata": {},
   "outputs": [],
   "source": [
    "import numpy as np\n",
    "from sklearn.neighbors import KernelDensity\n",
    "\n",
    "class KernelDensityClassifier:\n",
    "    \"\"\"\n",
    "    Kernel Density Classifier for binary classification.\n",
    "\n",
    "    Parameters\n",
    "    ----------\n",
    "    kernel : str, optional (default='gaussian')\n",
    "        The kernel to use for the Kernel Density Estimation.\n",
    "    bandwidth : float, optional (default=0.5)\n",
    "        The bandwidth of the kernel.\n",
    "\n",
    "    Attributes\n",
    "    ----------\n",
    "    kde_positive : KernelDensity\n",
    "        Kernel Density Estimator for the positive class.\n",
    "    kde_negative : KernelDensity\n",
    "        Kernel Density Estimator for the negative class.\n",
    "    \"\"\"\n",
    "\n",
    "    def __init__(self, kernel='gaussian', bandwidth=0.5):\n",
    "        self.kernel = kernel\n",
    "        self.bandwidth = bandwidth\n",
    "        self.kde_positive = None\n",
    "        self.kde_negative = None\n",
    "\n",
    "    def fit(self, X, y):\n",
    "        \"\"\"\n",
    "        Fit the Kernel Density Estimators for the positive and negative classes.\n",
    "\n",
    "        Parameters\n",
    "        ----------\n",
    "        X : array-like, shape (n_samples, n_features)\n",
    "            Training data.\n",
    "        y : array-like, shape (n_samples,)\n",
    "            Target values (1 for positive class, 0 for negative class).\n",
    "        \"\"\"\n",
    "        X_positive = X[y == 1]\n",
    "        X_negative = X[y == 0]\n",
    "\n",
    "        self.kde_positive = KernelDensity(kernel=self.kernel, bandwidth=self.bandwidth)\n",
    "        self.kde_negative = KernelDensity(kernel=self.kernel, bandwidth=self.bandwidth)\n",
    "\n",
    "        self.kde_positive.fit(X_positive)\n",
    "        self.kde_negative.fit(X_negative)\n",
    "\n",
    "    def predict_proba(self, X_new):\n",
    "        \"\"\"\n",
    "        Estimate the probabilities of the positive class for the new data.\n",
    "\n",
    "        Parameters\n",
    "        ----------\n",
    "        X_new : array-like, shape (n_samples, n_features)\n",
    "            New data.\n",
    "\n",
    "        Returns\n",
    "        -------\n",
    "        probabilities : array, shape (n_samples,)\n",
    "            Estimated probabilities of the positive class.\n",
    "        \"\"\"\n",
    "        if self.kde_positive is None or self.kde_negative is None:\n",
    "            raise ValueError(\"The model has not been fitted yet. Call 'fit' with appropriate data.\")\n",
    "        \n",
    "        log_density_positive = self.kde_positive.score_samples(X_new)\n",
    "        log_density_negative = self.kde_negative.score_samples(X_new)\n",
    "        \n",
    "        density_positive = np.exp(log_density_positive)\n",
    "        density_negative = np.exp(log_density_negative)\n",
    "        \n",
    "        return np.vstack((density_negative, density_positive)).T\n",
    "\n",
    "    def predict(self, X_new):\n",
    "        \"\"\"\n",
    "        Predict the class labels for the new data.\n",
    "\n",
    "        Parameters\n",
    "        ----------\n",
    "        X_new : array-like, shape (n_samples, n_features)\n",
    "            New data.\n",
    "\n",
    "        Returns\n",
    "        -------\n",
    "        predictions : array, shape (n_samples,)\n",
    "            Predicted class labels (1 for positive class, 0 for negative class).\n",
    "        \"\"\"\n",
    "        densities = self.predict_proba(X_new)\n",
    "        return np.argmax(densities, axis=1)"
   ]
  },
  {
   "cell_type": "markdown",
   "metadata": {},
   "source": [
    "# Modelling"
   ]
  },
  {
   "cell_type": "code",
   "execution_count": 6,
   "metadata": {},
   "outputs": [
    {
     "name": "stdout",
     "output_type": "stream",
     "text": [
      "Probabilidades: [[2.30994854e-01 2.47529116e-04]\n",
      " [3.21828522e-06 1.96201316e-01]\n",
      " [4.34136402e-17 2.38476558e-01]]\n",
      "Predições: [0 1 1]\n"
     ]
    }
   ],
   "source": [
    "import numpy as np\n",
    "\n",
    "# Gerar dados de exemplo\n",
    "np.random.seed(0)\n",
    "X_positive = np.random.normal(loc=5, scale=1, size=(50, 1))\n",
    "X_negative = np.random.normal(loc=0, scale=1, size=(50, 1))\n",
    "X = np.vstack((X_positive, X_negative))\n",
    "y = np.hstack((np.ones(50), np.zeros(50)))\n",
    "\n",
    "# Criar e ajustar o modelo\n",
    "kde = KernelDensityClassifier(kernel='gaussian', bandwidth=0.5)\n",
    "kde.fit(X, y)\n",
    "\n",
    "# Gerar novos dados para previsão\n",
    "X_new = np.array([[1], [4], [6]])\n",
    "\n",
    "# Prever as probabilidades dos novos dados\n",
    "probabilities = kde.predict_proba(X_new)\n",
    "print(\"Probabilidades:\", probabilities)\n",
    "\n",
    "# Prever as classes dos novos dados\n",
    "predictions = kde.predict(X_new)\n",
    "print(\"Predições:\", predictions)"
   ]
  }
 ],
 "metadata": {
  "kernelspec": {
   "display_name": "Python 3",
   "language": "python",
   "name": "python3"
  },
  "language_info": {
   "codemirror_mode": {
    "name": "ipython",
    "version": 3
   },
   "file_extension": ".py",
   "mimetype": "text/x-python",
   "name": "python",
   "nbconvert_exporter": "python",
   "pygments_lexer": "ipython3",
   "version": "3.10.12"
  }
 },
 "nbformat": 4,
 "nbformat_minor": 2
}
